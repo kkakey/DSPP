{
 "cells": [
  {
   "cell_type": "code",
   "execution_count": 2,
   "metadata": {},
   "outputs": [],
   "source": [
    "import pandas as pd\n",
    "import re\n",
    "import numpy as np\n",
    "from nltk.corpus import stopwords\n",
    "import nltk\n",
    "stop_words = nltk.corpus.stopwords.words('english')\n",
    "from nltk.stem import PorterStemmer\n",
    "my_stem = PorterStemmer()\n",
    "from nltk.stem import WordNetLemmatizer \n",
    "lemmatizer = WordNetLemmatizer()\n",
    "dictionary = set(w.lower() for w in nltk.corpus.words.words())\n",
    "from sklearn.feature_extraction.text import TfidfVectorizer\n",
    "from sklearn.metrics import accuracy_score, f1_score"
   ]
  },
  {
   "cell_type": "code",
   "execution_count": 3,
   "metadata": {},
   "outputs": [],
   "source": [
    "politifact = pd.read_csv(\"raw-data/FakeNewsNet-master/Data/Cleaned_DSPP/politifact.csv\")"
   ]
  },
  {
   "cell_type": "code",
   "execution_count": 5,
   "metadata": {},
   "outputs": [],
   "source": [
    "### remove articles with no text\n",
    "politifact = politifact[~politifact.text.isna()]"
   ]
  },
  {
   "cell_type": "code",
   "execution_count": 6,
   "metadata": {},
   "outputs": [],
   "source": [
    "from sklearn.model_selection import train_test_split\n",
    "train, test = train_test_split(politifact, test_size=0.4, random_state=9)"
   ]
  },
  {
   "cell_type": "code",
   "execution_count": 7,
   "metadata": {},
   "outputs": [
    {
     "data": {
      "text/html": [
       "<div>\n",
       "<style scoped>\n",
       "    .dataframe tbody tr th:only-of-type {\n",
       "        vertical-align: middle;\n",
       "    }\n",
       "\n",
       "    .dataframe tbody tr th {\n",
       "        vertical-align: top;\n",
       "    }\n",
       "\n",
       "    .dataframe thead th {\n",
       "        text-align: right;\n",
       "    }\n",
       "</style>\n",
       "<table border=\"1\" class=\"dataframe\">\n",
       "  <thead>\n",
       "    <tr style=\"text-align: right;\">\n",
       "      <th></th>\n",
       "      <th>Unnamed: 0</th>\n",
       "      <th>source</th>\n",
       "      <th>date</th>\n",
       "      <th>title</th>\n",
       "      <th>text</th>\n",
       "      <th>fake</th>\n",
       "      <th>date_time</th>\n",
       "    </tr>\n",
       "  </thead>\n",
       "  <tbody>\n",
       "    <tr>\n",
       "      <th>91</th>\n",
       "      <td>PolitiFact_Fake_73-Webpage.json</td>\n",
       "      <td>NaN</td>\n",
       "      <td>NaN</td>\n",
       "      <td>NaN</td>\n",
       "      <td>It seems as though there may be more than the ...</td>\n",
       "      <td>1</td>\n",
       "      <td>NaN</td>\n",
       "    </tr>\n",
       "    <tr>\n",
       "      <th>202</th>\n",
       "      <td>PolitiFact_Real_65-Webpage.json</td>\n",
       "      <td>http://cnn.it</td>\n",
       "      <td>NaN</td>\n",
       "      <td>Debate breaks record as most-watched in U.S. h...</td>\n",
       "      <td>Monday night was the most-watched debate in Am...</td>\n",
       "      <td>0</td>\n",
       "      <td>NaN</td>\n",
       "    </tr>\n",
       "    <tr>\n",
       "      <th>148</th>\n",
       "      <td>PolitiFact_Real_16-Webpage.json</td>\n",
       "      <td>http://politi.co</td>\n",
       "      <td>2016-09-26</td>\n",
       "      <td>Clinton on Trump's birther claim: A 'racist lie'</td>\n",
       "      <td>\"He has a long record of engaging in racist be...</td>\n",
       "      <td>0</td>\n",
       "      <td>2016-09-26 18:27:04</td>\n",
       "    </tr>\n",
       "    <tr>\n",
       "      <th>206</th>\n",
       "      <td>PolitiFact_Real_69-Webpage.json</td>\n",
       "      <td>http://politi.co</td>\n",
       "      <td>2016-09-27</td>\n",
       "      <td>Obama nominates ambassador to Cuba in long-sho...</td>\n",
       "      <td>Jeffrey DeLaurentis will serve as America's am...</td>\n",
       "      <td>0</td>\n",
       "      <td>2016-09-27 13:14:10</td>\n",
       "    </tr>\n",
       "    <tr>\n",
       "      <th>107</th>\n",
       "      <td>PolitiFact_Fake_88-Webpage.json</td>\n",
       "      <td>http://uspoln.com</td>\n",
       "      <td>2017-05-23</td>\n",
       "      <td>Rubio: “Rape Victims Should Be In Custody If T...</td>\n",
       "      <td>At a campaign town hall event at St. Anselm Co...</td>\n",
       "      <td>1</td>\n",
       "      <td>2017-05-22 20:00:00</td>\n",
       "    </tr>\n",
       "  </tbody>\n",
       "</table>\n",
       "</div>"
      ],
      "text/plain": [
       "                          Unnamed: 0             source        date  \\\n",
       "91   PolitiFact_Fake_73-Webpage.json                NaN         NaN   \n",
       "202  PolitiFact_Real_65-Webpage.json      http://cnn.it         NaN   \n",
       "148  PolitiFact_Real_16-Webpage.json   http://politi.co  2016-09-26   \n",
       "206  PolitiFact_Real_69-Webpage.json   http://politi.co  2016-09-27   \n",
       "107  PolitiFact_Fake_88-Webpage.json  http://uspoln.com  2017-05-23   \n",
       "\n",
       "                                                 title  \\\n",
       "91                                                 NaN   \n",
       "202  Debate breaks record as most-watched in U.S. h...   \n",
       "148   Clinton on Trump's birther claim: A 'racist lie'   \n",
       "206  Obama nominates ambassador to Cuba in long-sho...   \n",
       "107  Rubio: “Rape Victims Should Be In Custody If T...   \n",
       "\n",
       "                                                  text  fake  \\\n",
       "91   It seems as though there may be more than the ...     1   \n",
       "202  Monday night was the most-watched debate in Am...     0   \n",
       "148  \"He has a long record of engaging in racist be...     0   \n",
       "206  Jeffrey DeLaurentis will serve as America's am...     0   \n",
       "107  At a campaign town hall event at St. Anselm Co...     1   \n",
       "\n",
       "               date_time  \n",
       "91                   NaN  \n",
       "202                  NaN  \n",
       "148  2016-09-26 18:27:04  \n",
       "206  2016-09-27 13:14:10  \n",
       "107  2017-05-22 20:00:00  "
      ]
     },
     "execution_count": 7,
     "metadata": {},
     "output_type": "execute_result"
    }
   ],
   "source": [
    "train.head()"
   ]
  },
  {
   "cell_type": "code",
   "execution_count": 8,
   "metadata": {},
   "outputs": [],
   "source": [
    "the_df = pd.DataFrame()\n",
    "## clean/prepare text\n",
    "for rev, outcome in zip(train.text.tolist(), train.fake.tolist()):\n",
    "    \n",
    "    # only keep words (remove other characters)\n",
    "    tmp_read = re.sub('[^a-zA-Z]+', ' ', rev).lower()\n",
    "\n",
    "    #Tokenization and remove stop words\n",
    "    tmp_read = [word for word in tmp_read.split() if word not in stop_words]\n",
    "\n",
    "    #dictionary words\n",
    "    dict_read = [word for word in tmp_read if word in dictionary]\n",
    "    \n",
    "    # stemming\n",
    "    tmp_read_stm = [my_stem.stem(word) for word in tmp_read]\n",
    "    dict_read_stm = [my_stem.stem(word) for word in dict_read]\n",
    "\n",
    "    # lemminization\n",
    "    tmp_read_lem = [lemmatizer.lemmatize(word) for word in tmp_read]\n",
    "    dict_read_lem = [lemmatizer.lemmatize(word) for word in dict_read]\n",
    "\n",
    "    \n",
    "    # rejoin reviews\n",
    "    tmp_read = ' '.join(tmp_read)\n",
    "    tmp_read_stm = ' '.join(tmp_read_stm)\n",
    "    tmp_read_lem = ' '.join(tmp_read_lem)\n",
    "    \n",
    "    dict_read = ' '.join(dict_read)\n",
    "    dict_read_stm = ' '.join(dict_read_stm)\n",
    "    dict_read_lem = ' '.join(dict_read_lem)\n",
    "\n",
    "\n",
    "    # add to new df\n",
    "    tmp = pd.DataFrame([rev], columns=['original review'])\n",
    "    tmp['body'] = tmp_read\n",
    "    tmp['body_stem'] = tmp_read_stm\n",
    "    tmp['body_lem'] = tmp_read_lem\n",
    "    tmp['body_dict'] = dict_read\n",
    "    tmp['body_dict_stem'] = dict_read_stm\n",
    "    tmp['fake'] = outcome\n",
    "\n",
    "    the_df = the_df.append(tmp, ignore_index=True)"
   ]
  },
  {
   "cell_type": "code",
   "execution_count": 9,
   "metadata": {},
   "outputs": [
    {
     "data": {
      "text/html": [
       "<div>\n",
       "<style scoped>\n",
       "    .dataframe tbody tr th:only-of-type {\n",
       "        vertical-align: middle;\n",
       "    }\n",
       "\n",
       "    .dataframe tbody tr th {\n",
       "        vertical-align: top;\n",
       "    }\n",
       "\n",
       "    .dataframe thead th {\n",
       "        text-align: right;\n",
       "    }\n",
       "</style>\n",
       "<table border=\"1\" class=\"dataframe\">\n",
       "  <thead>\n",
       "    <tr style=\"text-align: right;\">\n",
       "      <th></th>\n",
       "      <th>original review</th>\n",
       "      <th>body</th>\n",
       "      <th>body_stem</th>\n",
       "      <th>body_lem</th>\n",
       "      <th>body_dict</th>\n",
       "      <th>body_dict_stem</th>\n",
       "      <th>fake</th>\n",
       "    </tr>\n",
       "  </thead>\n",
       "  <tbody>\n",
       "    <tr>\n",
       "      <th>0</th>\n",
       "      <td>It seems as though there may be more than the ...</td>\n",
       "      <td>seems though may normal forces play former gov...</td>\n",
       "      <td>seem though may normal forc play former govern...</td>\n",
       "      <td>seems though may normal force play former gove...</td>\n",
       "      <td>though may normal play former governor alaska ...</td>\n",
       "      <td>though may normal play former governor alaska ...</td>\n",
       "      <td>1</td>\n",
       "    </tr>\n",
       "    <tr>\n",
       "      <th>1</th>\n",
       "      <td>Monday night was the most-watched debate in Am...</td>\n",
       "      <td>monday night watched debate american history w...</td>\n",
       "      <td>monday night watch debat american histori well...</td>\n",
       "      <td>monday night watched debate american history w...</td>\n",
       "      <td>monday night watched debate american history w...</td>\n",
       "      <td>monday night watch debat american histori well...</td>\n",
       "      <td>0</td>\n",
       "    </tr>\n",
       "    <tr>\n",
       "      <th>2</th>\n",
       "      <td>\"He has a long record of engaging in racist be...</td>\n",
       "      <td>long record engaging racist behavior hillary c...</td>\n",
       "      <td>long record engag racist behavior hillari clin...</td>\n",
       "      <td>long record engaging racist behavior hillary c...</td>\n",
       "      <td>long record engaging racist behavior hillary c...</td>\n",
       "      <td>long record engag racist behavior hillari clin...</td>\n",
       "      <td>0</td>\n",
       "    </tr>\n",
       "    <tr>\n",
       "      <th>3</th>\n",
       "      <td>Jeffrey DeLaurentis will serve as America's am...</td>\n",
       "      <td>jeffrey delaurentis serve america ambassador c...</td>\n",
       "      <td>jeffrey delaurenti serv america ambassador com...</td>\n",
       "      <td>jeffrey delaurentis serve america ambassador c...</td>\n",
       "      <td>jeffrey serve america ambassador communist led...</td>\n",
       "      <td>jeffrey serv america ambassador communist led ...</td>\n",
       "      <td>0</td>\n",
       "    </tr>\n",
       "    <tr>\n",
       "      <th>4</th>\n",
       "      <td>At a campaign town hall event at St. Anselm Co...</td>\n",
       "      <td>campaign town hall event st anselm college new...</td>\n",
       "      <td>campaign town hall event st anselm colleg new ...</td>\n",
       "      <td>campaign town hall event st anselm college new...</td>\n",
       "      <td>campaign town hall event st anselm college new...</td>\n",
       "      <td>campaign town hall event st anselm colleg new ...</td>\n",
       "      <td>1</td>\n",
       "    </tr>\n",
       "  </tbody>\n",
       "</table>\n",
       "</div>"
      ],
      "text/plain": [
       "                                     original review  \\\n",
       "0  It seems as though there may be more than the ...   \n",
       "1  Monday night was the most-watched debate in Am...   \n",
       "2  \"He has a long record of engaging in racist be...   \n",
       "3  Jeffrey DeLaurentis will serve as America's am...   \n",
       "4  At a campaign town hall event at St. Anselm Co...   \n",
       "\n",
       "                                                body  \\\n",
       "0  seems though may normal forces play former gov...   \n",
       "1  monday night watched debate american history w...   \n",
       "2  long record engaging racist behavior hillary c...   \n",
       "3  jeffrey delaurentis serve america ambassador c...   \n",
       "4  campaign town hall event st anselm college new...   \n",
       "\n",
       "                                           body_stem  \\\n",
       "0  seem though may normal forc play former govern...   \n",
       "1  monday night watch debat american histori well...   \n",
       "2  long record engag racist behavior hillari clin...   \n",
       "3  jeffrey delaurenti serv america ambassador com...   \n",
       "4  campaign town hall event st anselm colleg new ...   \n",
       "\n",
       "                                            body_lem  \\\n",
       "0  seems though may normal force play former gove...   \n",
       "1  monday night watched debate american history w...   \n",
       "2  long record engaging racist behavior hillary c...   \n",
       "3  jeffrey delaurentis serve america ambassador c...   \n",
       "4  campaign town hall event st anselm college new...   \n",
       "\n",
       "                                           body_dict  \\\n",
       "0  though may normal play former governor alaska ...   \n",
       "1  monday night watched debate american history w...   \n",
       "2  long record engaging racist behavior hillary c...   \n",
       "3  jeffrey serve america ambassador communist led...   \n",
       "4  campaign town hall event st anselm college new...   \n",
       "\n",
       "                                      body_dict_stem  fake  \n",
       "0  though may normal play former governor alaska ...     1  \n",
       "1  monday night watch debat american histori well...     0  \n",
       "2  long record engag racist behavior hillari clin...     0  \n",
       "3  jeffrey serv america ambassador communist led ...     0  \n",
       "4  campaign town hall event st anselm colleg new ...     1  "
      ]
     },
     "execution_count": 9,
     "metadata": {},
     "output_type": "execute_result"
    }
   ],
   "source": [
    "the_df.head()"
   ]
  },
  {
   "cell_type": "code",
   "execution_count": 10,
   "metadata": {},
   "outputs": [],
   "source": [
    "label = np.array(the_df['fake'])\n",
    "# choose column to use has main text for models\n",
    "body_text = np.array(the_df['body_lem'])"
   ]
  },
  {
   "cell_type": "code",
   "execution_count": 11,
   "metadata": {},
   "outputs": [],
   "source": [
    "# unigram vectorizer\n",
    "# vectorize\n",
    "my_vec_tfidf_out = TfidfVectorizer()\n",
    "my_xform_tfidf_out = my_vec_tfidf_out.fit_transform(body_text)\n",
    "my_pd = pd.DataFrame(my_xform_tfidf_out.toarray())\n",
    "my_pd.columns = my_vec_tfidf_out.get_feature_names()\n",
    "X = my_pd.values\n",
    "\n",
    "# vectorize test data\n",
    "test_vec=my_vec_tfidf_out.transform(test.text.tolist())\n",
    "my_pd = pd.DataFrame(test_vec.toarray())\n",
    "my_pd.columns = my_vec_tfidf_out.get_feature_names()\n",
    "X_test = my_pd.values"
   ]
  },
  {
   "cell_type": "code",
   "execution_count": 71,
   "metadata": {},
   "outputs": [],
   "source": [
    "# # unigram/bigram vectorizer\n",
    "# my_vec_tfidf_out = TfidfVectorizer(ngram_range = (1,2)) \n",
    "# my_xform_tfidf_out = my_vec_tfidf_out.fit_transform(body_text)\n",
    "# my_pd = pd.DataFrame(my_xform_tfidf_out.toarray())\n",
    "# my_pd.columns = my_vec_tfidf_out.get_feature_names()\n",
    "# X = my_pd.values\n",
    "\n",
    "# test_vec=my_vec_tfidf_out.transform(test.text.tolist())\n",
    "# my_pd = pd.DataFrame(test_vec.toarray())\n",
    "# my_pd.columns = my_vec_tfidf_out.get_feature_names()\n",
    "# X_test = my_pd.values"
   ]
  },
  {
   "cell_type": "code",
   "execution_count": 12,
   "metadata": {},
   "outputs": [
    {
     "name": "stdout",
     "output_type": "stream",
     "text": [
      "   counts  percentage\n",
      "0      77   54.225352\n",
      "1      65   45.774648\n"
     ]
    }
   ],
   "source": [
    "# are the classes balanced?\n",
    "balance_check = pd.concat([the_df.fake.value_counts(), \n",
    "                the_df.fake.value_counts(normalize=True).mul(100)],axis=1, keys=('counts','percentage'))\n",
    "print(balance_check)"
   ]
  },
  {
   "cell_type": "markdown",
   "metadata": {},
   "source": [
    "### Modeling "
   ]
  },
  {
   "cell_type": "code",
   "execution_count": 13,
   "metadata": {},
   "outputs": [],
   "source": [
    "from sklearn.preprocessing import StandardScaler\n",
    "from sklearn.model_selection import train_test_split, KFold, GridSearchCV\n",
    "from sklearn.neighbors import KNeighborsRegressor, KNeighborsClassifier\n",
    "from sklearn.linear_model import LinearRegression, Ridge, Lasso, LogisticRegression\n",
    "from sklearn.model_selection import cross_val_score, StratifiedKFold\n",
    "from sklearn.metrics import make_scorer, f1_score, precision_recall_curve, plot_precision_recall_curve\n",
    "import matplotlib.pyplot as plt\n",
    "import timeit\n",
    "f1_scorer = make_scorer(f1_score)"
   ]
  },
  {
   "cell_type": "code",
   "execution_count": 14,
   "metadata": {},
   "outputs": [],
   "source": [
    "# scale data\n",
    "scaler = StandardScaler()\n",
    "scaler.fit(X)\n",
    "X_scaled = scaler.transform(X)\n",
    "X_test_scaled = scaler.transform(X_test)"
   ]
  },
  {
   "cell_type": "code",
   "execution_count": 31,
   "metadata": {},
   "outputs": [
    {
     "name": "stdout",
     "output_type": "stream",
     "text": [
      "best mean cross-validation score: 0.657\n",
      "test-set score: 0.745\n"
     ]
    }
   ],
   "source": [
    "# Logistic Regression\n",
    "start = timeit.default_timer()\n",
    "logreg = LogisticRegression(penalty='none',random_state=9).fit(X_scaled, label)\n",
    "stop = timeit.default_timer()\n",
    "\n",
    "# # cross-validation for model evaluation\n",
    "cv_mean = np.mean(cross_val_score(LogisticRegression(penalty='none'), X_scaled, label, cv=5, scoring=f1_scorer))\n",
    "print(\"best mean cross-validation score: {:.3f}\".format(cv_mean))\n",
    "\n",
    "y_predictions = logreg.predict(X_test_scaled)\n",
    "print(\"test-set score: {:.3f}\".format(f1_score(np.array(test.fake), y_predictions)))\n",
    "\n",
    "\n",
    "\n",
    "# print('model time: ', stop - start) "
   ]
  },
  {
   "cell_type": "code",
   "execution_count": 32,
   "metadata": {},
   "outputs": [
    {
     "name": "stdout",
     "output_type": "stream",
     "text": [
      "best mean cross-validation score: 0.775\n",
      "test-set score: 0.792\n",
      "model time:  0.827356151999993\n"
     ]
    }
   ],
   "source": [
    "# L1 Penalized Logistic Regression\n",
    "param_gridlasso = {'C': [0.001 , 0.01 , 0.1 , 1 , 10]} \n",
    "\n",
    "# cv = number of folds\n",
    "gridlasso = GridSearchCV(LogisticRegression(penalty='l1',solver='liblinear',random_state=9), \n",
    "                    param_grid=param_gridlasso, cv=5, scoring=f1_scorer)\n",
    "\n",
    "#use meta model methods to fit score and predict model:\n",
    "start = timeit.default_timer()\n",
    "gridlasso.fit(X_scaled, label)\n",
    "stop = timeit.default_timer()\n",
    "\n",
    "print(\"best mean cross-validation score: {:.3f}\".format(gridlasso.best_score_))\n",
    "y_predictions = gridlasso.predict(X_test_scaled)\n",
    "print(\"test-set score: {:.3f}\".format(f1_score(np.array(test.fake), y_predictions)))\n",
    "\n",
    "print('model time: ', stop - start) "
   ]
  },
  {
   "cell_type": "markdown",
   "metadata": {},
   "source": [
    "**Gradient Boosting**"
   ]
  },
  {
   "cell_type": "code",
   "execution_count": 16,
   "metadata": {},
   "outputs": [
    {
     "name": "stdout",
     "output_type": "stream",
     "text": [
      "best parameters: {'learning_rate': 0.1, 'max_depth': 5, 'n_estimators': 400}\n",
      "best mean cross-validation score: 0.758\n",
      "test-set score: 0.855\n"
     ]
    }
   ],
   "source": [
    "from sklearn.ensemble import GradientBoostingClassifier\n",
    "\n",
    "param_grid = {'n_estimators': [400 , 500,600],\n",
    "             \"max_depth\":[3,4,5],\n",
    "             \"learning_rate\":[.001,.01,.1]} \n",
    "\n",
    "# cv = number of folds\n",
    "gridgb = GridSearchCV(GradientBoostingClassifier(random_state=9), \n",
    "                    param_grid=param_grid, cv=5, scoring=f1_scorer)\n",
    "\n",
    "#use meta model methods to fit score and predict model:\n",
    "start = timeit.default_timer()\n",
    "gridgb.fit(X, label)\n",
    "stop = timeit.default_timer()\n",
    "\n",
    "print(\"best parameters: {}\".format(gridgb.best_params_))\n",
    "\n",
    "print(\"best mean cross-validation score: {:.3f}\".format(gridgb.best_score_))\n",
    "y_predictions = gridgb.predict(X_test)\n",
    "print(\"test-set score: {:.3f}\".format(f1_score(np.array(test.fake), y_predictions)))"
   ]
  },
  {
   "cell_type": "code",
   "execution_count": null,
   "metadata": {},
   "outputs": [],
   "source": [
    "from sklearn.ensemble import GradientBoostingClassifier\n",
    "\n",
    "model = GradientBoostingClassifier(learning_rate=0.01, max_depth=3, n_estimators=500, random_state=9)\n",
    "model.fit(X, label)\n",
    "y_predictions = model.predict(X_test)\n",
    "print(\"test-set score: {:.3f}\".format(f1_score(np.array(test.fake), y_predictions)))\n",
    "print(\"test-set score: {:.3f}\".format(accuracy_score(np.array(test.fake), y_predictions)))"
   ]
  },
  {
   "cell_type": "markdown",
   "metadata": {},
   "source": [
    "**Random Forest**"
   ]
  },
  {
   "cell_type": "code",
   "execution_count": 17,
   "metadata": {},
   "outputs": [
    {
     "name": "stdout",
     "output_type": "stream",
     "text": [
      "best parameters: {'max_depth': 15, 'n_estimators': 300}\n",
      "best mean cross-validation score: 0.750\n",
      "test-set score: 0.852\n"
     ]
    }
   ],
   "source": [
    "from sklearn.ensemble import RandomForestClassifier\n",
    "\n",
    "param_grid = {'n_estimators': [100 , 300,500,800],\n",
    "             \"max_depth\":[1,5,10,15]} \n",
    "\n",
    "# cv = number of folds\n",
    "gridrf = GridSearchCV(RandomForestClassifier(random_state=9), \n",
    "                    param_grid=param_grid, cv=5, scoring=f1_scorer)\n",
    "\n",
    "#use meta model methods to fit score and predict model:\n",
    "start = timeit.default_timer()\n",
    "gridrf.fit(X, label)\n",
    "stop = timeit.default_timer()\n",
    "\n",
    "print(\"best parameters: {}\".format(gridrf.best_params_))\n",
    "print(\"best mean cross-validation score: {:.3f}\".format(gridrf.best_score_))\n",
    "\n",
    "y_predictions = gridrf.predict(X_test)\n",
    "print(\"test-set score: {:.3f}\".format(f1_score(np.array(test.fake), y_predictions)))"
   ]
  },
  {
   "cell_type": "code",
   "execution_count": 34,
   "metadata": {},
   "outputs": [
    {
     "name": "stdout",
     "output_type": "stream",
     "text": [
      "test-set score: 0.852\n",
      "test-set score: 0.833\n"
     ]
    }
   ],
   "source": [
    "model = RandomForestClassifier(n_estimators=500, max_depth=15,random_state=9)\n",
    "model.fit(X, label)\n",
    "y_predictions = model.predict(X_test)\n",
    "print(\"test-set score: {:.3f}\".format(f1_score(np.array(test.fake), y_predictions)))\n",
    "print(\"test-set score: {:.3f}\".format(accuracy_score(np.array(test.fake), y_predictions)))"
   ]
  },
  {
   "cell_type": "markdown",
   "metadata": {},
   "source": [
    "**SVC**"
   ]
  },
  {
   "cell_type": "code",
   "execution_count": 19,
   "metadata": {},
   "outputs": [
    {
     "name": "stdout",
     "output_type": "stream",
     "text": [
      "best parameters: {'C': 1, 'gamma': 'auto', 'kernel': 'linear'}\n",
      "best mean cross-validation score: 0.761\n",
      "test-set f1-score: 0.893\n",
      "test-set acc score: 0.8854\n"
     ]
    }
   ],
   "source": [
    "from sklearn.svm import SVC\n",
    "import warnings\n",
    "warnings.filterwarnings('ignore')\n",
    "\n",
    "param_grid = {'kernel': ['linear', 'poly', 'rbf', 'sigmoid'],\n",
    "              'gamma':['sclae','auto'],\n",
    "             \"C\":[1,5,8,10,15]} \n",
    "\n",
    "# cv = number of folds\n",
    "gridsvc = GridSearchCV(SVC(random_state=9), \n",
    "                    param_grid=param_grid, cv=5, scoring=f1_scorer)\n",
    "\n",
    "#use meta model methods to fit score and predict model:\n",
    "start = timeit.default_timer()\n",
    "gridsvc.fit(X, label)\n",
    "stop = timeit.default_timer()\n",
    "\n",
    "print(\"best parameters: {}\".format(gridsvc.best_params_))\n",
    "print(\"best mean cross-validation score: {:.3f}\".format(gridsvc.best_score_))\n",
    "\n",
    "y_predictions = gridsvc.predict(X_test)\n",
    "print(\"test-set f1-score: {:.3f}\".format(f1_score(np.array(test.fake), y_predictions)))\n",
    "print(\"test-set acc score: {:.4f}\".format(accuracy_score(np.array(test.fake), y_predictions)))"
   ]
  },
  {
   "cell_type": "code",
   "execution_count": 20,
   "metadata": {},
   "outputs": [
    {
     "name": "stdout",
     "output_type": "stream",
     "text": [
      "test-set score: 0.9020\n",
      "test-set score: 0.8958\n"
     ]
    }
   ],
   "source": [
    "# body_lem -- unigram and bigram\n",
    "from sklearn.svm import SVC\n",
    "clf = SVC(kernel='linear', C=5, gamma='auto', random_state=9).fit(X, label)\n",
    "# clf.score(X_test, np.array(test.fake))\n",
    "y_predictions = clf.predict(X_test)\n",
    "print(\"test-set score: {:.4f}\".format(f1_score(np.array(test.fake), y_predictions)))\n",
    "print(\"test-set score: {:.4f}\".format(accuracy_score(np.array(test.fake), y_predictions)))"
   ]
  },
  {
   "cell_type": "markdown",
   "metadata": {},
   "source": [
    "**XGBoost**"
   ]
  },
  {
   "cell_type": "code",
   "execution_count": 18,
   "metadata": {},
   "outputs": [
    {
     "name": "stderr",
     "output_type": "stream",
     "text": [
      "/Users/kristenakey/opt/anaconda3/envs/maps/lib/python3.8/site-packages/xgboost/sklearn.py:888: UserWarning: The use of label encoder in XGBClassifier is deprecated and will be removed in a future release. To remove this warning, do the following: 1) Pass option use_label_encoder=False when constructing XGBClassifier object; and 2) Encode your labels (y) as integers starting with 0, i.e. 0, 1, 2, ..., [num_class - 1].\n",
      "  warnings.warn(label_encoder_deprecation_msg, UserWarning)\n"
     ]
    },
    {
     "name": "stdout",
     "output_type": "stream",
     "text": [
      "[11:36:09] WARNING: /Users/runner/miniforge3/conda-bld/xgboost_1607604592557/work/src/learner.cc:1061: Starting in XGBoost 1.3.0, the default evaluation metric used with the objective 'binary:logistic' was changed from 'error' to 'logloss'. Explicitly set eval_metric if you'd like to restore the old behavior.\n"
     ]
    },
    {
     "name": "stderr",
     "output_type": "stream",
     "text": [
      "/Users/kristenakey/opt/anaconda3/envs/maps/lib/python3.8/site-packages/xgboost/sklearn.py:888: UserWarning: The use of label encoder in XGBClassifier is deprecated and will be removed in a future release. To remove this warning, do the following: 1) Pass option use_label_encoder=False when constructing XGBClassifier object; and 2) Encode your labels (y) as integers starting with 0, i.e. 0, 1, 2, ..., [num_class - 1].\n",
      "  warnings.warn(label_encoder_deprecation_msg, UserWarning)\n"
     ]
    },
    {
     "name": "stdout",
     "output_type": "stream",
     "text": [
      "[11:36:10] WARNING: /Users/runner/miniforge3/conda-bld/xgboost_1607604592557/work/src/learner.cc:1061: Starting in XGBoost 1.3.0, the default evaluation metric used with the objective 'binary:logistic' was changed from 'error' to 'logloss'. Explicitly set eval_metric if you'd like to restore the old behavior.\n"
     ]
    },
    {
     "name": "stderr",
     "output_type": "stream",
     "text": [
      "/Users/kristenakey/opt/anaconda3/envs/maps/lib/python3.8/site-packages/xgboost/sklearn.py:888: UserWarning: The use of label encoder in XGBClassifier is deprecated and will be removed in a future release. To remove this warning, do the following: 1) Pass option use_label_encoder=False when constructing XGBClassifier object; and 2) Encode your labels (y) as integers starting with 0, i.e. 0, 1, 2, ..., [num_class - 1].\n",
      "  warnings.warn(label_encoder_deprecation_msg, UserWarning)\n"
     ]
    },
    {
     "name": "stdout",
     "output_type": "stream",
     "text": [
      "[11:36:10] WARNING: /Users/runner/miniforge3/conda-bld/xgboost_1607604592557/work/src/learner.cc:1061: Starting in XGBoost 1.3.0, the default evaluation metric used with the objective 'binary:logistic' was changed from 'error' to 'logloss'. Explicitly set eval_metric if you'd like to restore the old behavior.\n"
     ]
    },
    {
     "name": "stderr",
     "output_type": "stream",
     "text": [
      "/Users/kristenakey/opt/anaconda3/envs/maps/lib/python3.8/site-packages/xgboost/sklearn.py:888: UserWarning: The use of label encoder in XGBClassifier is deprecated and will be removed in a future release. To remove this warning, do the following: 1) Pass option use_label_encoder=False when constructing XGBClassifier object; and 2) Encode your labels (y) as integers starting with 0, i.e. 0, 1, 2, ..., [num_class - 1].\n",
      "  warnings.warn(label_encoder_deprecation_msg, UserWarning)\n"
     ]
    },
    {
     "name": "stdout",
     "output_type": "stream",
     "text": [
      "[11:36:11] WARNING: /Users/runner/miniforge3/conda-bld/xgboost_1607604592557/work/src/learner.cc:1061: Starting in XGBoost 1.3.0, the default evaluation metric used with the objective 'binary:logistic' was changed from 'error' to 'logloss'. Explicitly set eval_metric if you'd like to restore the old behavior.\n"
     ]
    },
    {
     "name": "stderr",
     "output_type": "stream",
     "text": [
      "/Users/kristenakey/opt/anaconda3/envs/maps/lib/python3.8/site-packages/xgboost/sklearn.py:888: UserWarning: The use of label encoder in XGBClassifier is deprecated and will be removed in a future release. To remove this warning, do the following: 1) Pass option use_label_encoder=False when constructing XGBClassifier object; and 2) Encode your labels (y) as integers starting with 0, i.e. 0, 1, 2, ..., [num_class - 1].\n",
      "  warnings.warn(label_encoder_deprecation_msg, UserWarning)\n"
     ]
    },
    {
     "name": "stdout",
     "output_type": "stream",
     "text": [
      "[11:36:11] WARNING: /Users/runner/miniforge3/conda-bld/xgboost_1607604592557/work/src/learner.cc:1061: Starting in XGBoost 1.3.0, the default evaluation metric used with the objective 'binary:logistic' was changed from 'error' to 'logloss'. Explicitly set eval_metric if you'd like to restore the old behavior.\n"
     ]
    },
    {
     "name": "stderr",
     "output_type": "stream",
     "text": [
      "/Users/kristenakey/opt/anaconda3/envs/maps/lib/python3.8/site-packages/xgboost/sklearn.py:888: UserWarning: The use of label encoder in XGBClassifier is deprecated and will be removed in a future release. To remove this warning, do the following: 1) Pass option use_label_encoder=False when constructing XGBClassifier object; and 2) Encode your labels (y) as integers starting with 0, i.e. 0, 1, 2, ..., [num_class - 1].\n",
      "  warnings.warn(label_encoder_deprecation_msg, UserWarning)\n"
     ]
    },
    {
     "name": "stdout",
     "output_type": "stream",
     "text": [
      "[11:36:12] WARNING: /Users/runner/miniforge3/conda-bld/xgboost_1607604592557/work/src/learner.cc:1061: Starting in XGBoost 1.3.0, the default evaluation metric used with the objective 'binary:logistic' was changed from 'error' to 'logloss'. Explicitly set eval_metric if you'd like to restore the old behavior.\n"
     ]
    },
    {
     "name": "stderr",
     "output_type": "stream",
     "text": [
      "/Users/kristenakey/opt/anaconda3/envs/maps/lib/python3.8/site-packages/xgboost/sklearn.py:888: UserWarning: The use of label encoder in XGBClassifier is deprecated and will be removed in a future release. To remove this warning, do the following: 1) Pass option use_label_encoder=False when constructing XGBClassifier object; and 2) Encode your labels (y) as integers starting with 0, i.e. 0, 1, 2, ..., [num_class - 1].\n",
      "  warnings.warn(label_encoder_deprecation_msg, UserWarning)\n"
     ]
    },
    {
     "name": "stdout",
     "output_type": "stream",
     "text": [
      "[11:36:12] WARNING: /Users/runner/miniforge3/conda-bld/xgboost_1607604592557/work/src/learner.cc:1061: Starting in XGBoost 1.3.0, the default evaluation metric used with the objective 'binary:logistic' was changed from 'error' to 'logloss'. Explicitly set eval_metric if you'd like to restore the old behavior.\n"
     ]
    },
    {
     "name": "stderr",
     "output_type": "stream",
     "text": [
      "/Users/kristenakey/opt/anaconda3/envs/maps/lib/python3.8/site-packages/xgboost/sklearn.py:888: UserWarning: The use of label encoder in XGBClassifier is deprecated and will be removed in a future release. To remove this warning, do the following: 1) Pass option use_label_encoder=False when constructing XGBClassifier object; and 2) Encode your labels (y) as integers starting with 0, i.e. 0, 1, 2, ..., [num_class - 1].\n",
      "  warnings.warn(label_encoder_deprecation_msg, UserWarning)\n"
     ]
    },
    {
     "name": "stdout",
     "output_type": "stream",
     "text": [
      "[11:36:13] WARNING: /Users/runner/miniforge3/conda-bld/xgboost_1607604592557/work/src/learner.cc:1061: Starting in XGBoost 1.3.0, the default evaluation metric used with the objective 'binary:logistic' was changed from 'error' to 'logloss'. Explicitly set eval_metric if you'd like to restore the old behavior.\n"
     ]
    },
    {
     "name": "stderr",
     "output_type": "stream",
     "text": [
      "/Users/kristenakey/opt/anaconda3/envs/maps/lib/python3.8/site-packages/xgboost/sklearn.py:888: UserWarning: The use of label encoder in XGBClassifier is deprecated and will be removed in a future release. To remove this warning, do the following: 1) Pass option use_label_encoder=False when constructing XGBClassifier object; and 2) Encode your labels (y) as integers starting with 0, i.e. 0, 1, 2, ..., [num_class - 1].\n",
      "  warnings.warn(label_encoder_deprecation_msg, UserWarning)\n"
     ]
    },
    {
     "name": "stdout",
     "output_type": "stream",
     "text": [
      "[11:36:14] WARNING: /Users/runner/miniforge3/conda-bld/xgboost_1607604592557/work/src/learner.cc:1061: Starting in XGBoost 1.3.0, the default evaluation metric used with the objective 'binary:logistic' was changed from 'error' to 'logloss'. Explicitly set eval_metric if you'd like to restore the old behavior.\n"
     ]
    },
    {
     "name": "stderr",
     "output_type": "stream",
     "text": [
      "/Users/kristenakey/opt/anaconda3/envs/maps/lib/python3.8/site-packages/xgboost/sklearn.py:888: UserWarning: The use of label encoder in XGBClassifier is deprecated and will be removed in a future release. To remove this warning, do the following: 1) Pass option use_label_encoder=False when constructing XGBClassifier object; and 2) Encode your labels (y) as integers starting with 0, i.e. 0, 1, 2, ..., [num_class - 1].\n",
      "  warnings.warn(label_encoder_deprecation_msg, UserWarning)\n"
     ]
    },
    {
     "name": "stdout",
     "output_type": "stream",
     "text": [
      "[11:36:14] WARNING: /Users/runner/miniforge3/conda-bld/xgboost_1607604592557/work/src/learner.cc:1061: Starting in XGBoost 1.3.0, the default evaluation metric used with the objective 'binary:logistic' was changed from 'error' to 'logloss'. Explicitly set eval_metric if you'd like to restore the old behavior.\n"
     ]
    },
    {
     "name": "stderr",
     "output_type": "stream",
     "text": [
      "/Users/kristenakey/opt/anaconda3/envs/maps/lib/python3.8/site-packages/xgboost/sklearn.py:888: UserWarning: The use of label encoder in XGBClassifier is deprecated and will be removed in a future release. To remove this warning, do the following: 1) Pass option use_label_encoder=False when constructing XGBClassifier object; and 2) Encode your labels (y) as integers starting with 0, i.e. 0, 1, 2, ..., [num_class - 1].\n",
      "  warnings.warn(label_encoder_deprecation_msg, UserWarning)\n"
     ]
    },
    {
     "name": "stdout",
     "output_type": "stream",
     "text": [
      "[11:36:15] WARNING: /Users/runner/miniforge3/conda-bld/xgboost_1607604592557/work/src/learner.cc:1061: Starting in XGBoost 1.3.0, the default evaluation metric used with the objective 'binary:logistic' was changed from 'error' to 'logloss'. Explicitly set eval_metric if you'd like to restore the old behavior.\n"
     ]
    },
    {
     "name": "stderr",
     "output_type": "stream",
     "text": [
      "/Users/kristenakey/opt/anaconda3/envs/maps/lib/python3.8/site-packages/xgboost/sklearn.py:888: UserWarning: The use of label encoder in XGBClassifier is deprecated and will be removed in a future release. To remove this warning, do the following: 1) Pass option use_label_encoder=False when constructing XGBClassifier object; and 2) Encode your labels (y) as integers starting with 0, i.e. 0, 1, 2, ..., [num_class - 1].\n",
      "  warnings.warn(label_encoder_deprecation_msg, UserWarning)\n"
     ]
    },
    {
     "name": "stdout",
     "output_type": "stream",
     "text": [
      "[11:36:15] WARNING: /Users/runner/miniforge3/conda-bld/xgboost_1607604592557/work/src/learner.cc:1061: Starting in XGBoost 1.3.0, the default evaluation metric used with the objective 'binary:logistic' was changed from 'error' to 'logloss'. Explicitly set eval_metric if you'd like to restore the old behavior.\n"
     ]
    },
    {
     "name": "stderr",
     "output_type": "stream",
     "text": [
      "/Users/kristenakey/opt/anaconda3/envs/maps/lib/python3.8/site-packages/xgboost/sklearn.py:888: UserWarning: The use of label encoder in XGBClassifier is deprecated and will be removed in a future release. To remove this warning, do the following: 1) Pass option use_label_encoder=False when constructing XGBClassifier object; and 2) Encode your labels (y) as integers starting with 0, i.e. 0, 1, 2, ..., [num_class - 1].\n",
      "  warnings.warn(label_encoder_deprecation_msg, UserWarning)\n"
     ]
    },
    {
     "name": "stdout",
     "output_type": "stream",
     "text": [
      "[11:36:16] WARNING: /Users/runner/miniforge3/conda-bld/xgboost_1607604592557/work/src/learner.cc:1061: Starting in XGBoost 1.3.0, the default evaluation metric used with the objective 'binary:logistic' was changed from 'error' to 'logloss'. Explicitly set eval_metric if you'd like to restore the old behavior.\n"
     ]
    },
    {
     "name": "stderr",
     "output_type": "stream",
     "text": [
      "/Users/kristenakey/opt/anaconda3/envs/maps/lib/python3.8/site-packages/xgboost/sklearn.py:888: UserWarning: The use of label encoder in XGBClassifier is deprecated and will be removed in a future release. To remove this warning, do the following: 1) Pass option use_label_encoder=False when constructing XGBClassifier object; and 2) Encode your labels (y) as integers starting with 0, i.e. 0, 1, 2, ..., [num_class - 1].\n",
      "  warnings.warn(label_encoder_deprecation_msg, UserWarning)\n"
     ]
    },
    {
     "name": "stdout",
     "output_type": "stream",
     "text": [
      "[11:36:17] WARNING: /Users/runner/miniforge3/conda-bld/xgboost_1607604592557/work/src/learner.cc:1061: Starting in XGBoost 1.3.0, the default evaluation metric used with the objective 'binary:logistic' was changed from 'error' to 'logloss'. Explicitly set eval_metric if you'd like to restore the old behavior.\n"
     ]
    },
    {
     "name": "stderr",
     "output_type": "stream",
     "text": [
      "/Users/kristenakey/opt/anaconda3/envs/maps/lib/python3.8/site-packages/xgboost/sklearn.py:888: UserWarning: The use of label encoder in XGBClassifier is deprecated and will be removed in a future release. To remove this warning, do the following: 1) Pass option use_label_encoder=False when constructing XGBClassifier object; and 2) Encode your labels (y) as integers starting with 0, i.e. 0, 1, 2, ..., [num_class - 1].\n",
      "  warnings.warn(label_encoder_deprecation_msg, UserWarning)\n"
     ]
    },
    {
     "name": "stdout",
     "output_type": "stream",
     "text": [
      "[11:36:17] WARNING: /Users/runner/miniforge3/conda-bld/xgboost_1607604592557/work/src/learner.cc:1061: Starting in XGBoost 1.3.0, the default evaluation metric used with the objective 'binary:logistic' was changed from 'error' to 'logloss'. Explicitly set eval_metric if you'd like to restore the old behavior.\n"
     ]
    },
    {
     "name": "stderr",
     "output_type": "stream",
     "text": [
      "/Users/kristenakey/opt/anaconda3/envs/maps/lib/python3.8/site-packages/xgboost/sklearn.py:888: UserWarning: The use of label encoder in XGBClassifier is deprecated and will be removed in a future release. To remove this warning, do the following: 1) Pass option use_label_encoder=False when constructing XGBClassifier object; and 2) Encode your labels (y) as integers starting with 0, i.e. 0, 1, 2, ..., [num_class - 1].\n",
      "  warnings.warn(label_encoder_deprecation_msg, UserWarning)\n"
     ]
    },
    {
     "name": "stdout",
     "output_type": "stream",
     "text": [
      "[11:36:18] WARNING: /Users/runner/miniforge3/conda-bld/xgboost_1607604592557/work/src/learner.cc:1061: Starting in XGBoost 1.3.0, the default evaluation metric used with the objective 'binary:logistic' was changed from 'error' to 'logloss'. Explicitly set eval_metric if you'd like to restore the old behavior.\n"
     ]
    },
    {
     "name": "stderr",
     "output_type": "stream",
     "text": [
      "/Users/kristenakey/opt/anaconda3/envs/maps/lib/python3.8/site-packages/xgboost/sklearn.py:888: UserWarning: The use of label encoder in XGBClassifier is deprecated and will be removed in a future release. To remove this warning, do the following: 1) Pass option use_label_encoder=False when constructing XGBClassifier object; and 2) Encode your labels (y) as integers starting with 0, i.e. 0, 1, 2, ..., [num_class - 1].\n",
      "  warnings.warn(label_encoder_deprecation_msg, UserWarning)\n"
     ]
    },
    {
     "name": "stdout",
     "output_type": "stream",
     "text": [
      "[11:36:18] WARNING: /Users/runner/miniforge3/conda-bld/xgboost_1607604592557/work/src/learner.cc:1061: Starting in XGBoost 1.3.0, the default evaluation metric used with the objective 'binary:logistic' was changed from 'error' to 'logloss'. Explicitly set eval_metric if you'd like to restore the old behavior.\n"
     ]
    },
    {
     "name": "stderr",
     "output_type": "stream",
     "text": [
      "/Users/kristenakey/opt/anaconda3/envs/maps/lib/python3.8/site-packages/xgboost/sklearn.py:888: UserWarning: The use of label encoder in XGBClassifier is deprecated and will be removed in a future release. To remove this warning, do the following: 1) Pass option use_label_encoder=False when constructing XGBClassifier object; and 2) Encode your labels (y) as integers starting with 0, i.e. 0, 1, 2, ..., [num_class - 1].\n",
      "  warnings.warn(label_encoder_deprecation_msg, UserWarning)\n"
     ]
    },
    {
     "name": "stdout",
     "output_type": "stream",
     "text": [
      "[11:36:19] WARNING: /Users/runner/miniforge3/conda-bld/xgboost_1607604592557/work/src/learner.cc:1061: Starting in XGBoost 1.3.0, the default evaluation metric used with the objective 'binary:logistic' was changed from 'error' to 'logloss'. Explicitly set eval_metric if you'd like to restore the old behavior.\n"
     ]
    },
    {
     "name": "stderr",
     "output_type": "stream",
     "text": [
      "/Users/kristenakey/opt/anaconda3/envs/maps/lib/python3.8/site-packages/xgboost/sklearn.py:888: UserWarning: The use of label encoder in XGBClassifier is deprecated and will be removed in a future release. To remove this warning, do the following: 1) Pass option use_label_encoder=False when constructing XGBClassifier object; and 2) Encode your labels (y) as integers starting with 0, i.e. 0, 1, 2, ..., [num_class - 1].\n",
      "  warnings.warn(label_encoder_deprecation_msg, UserWarning)\n"
     ]
    },
    {
     "name": "stdout",
     "output_type": "stream",
     "text": [
      "[11:36:19] WARNING: /Users/runner/miniforge3/conda-bld/xgboost_1607604592557/work/src/learner.cc:1061: Starting in XGBoost 1.3.0, the default evaluation metric used with the objective 'binary:logistic' was changed from 'error' to 'logloss'. Explicitly set eval_metric if you'd like to restore the old behavior.\n"
     ]
    },
    {
     "name": "stderr",
     "output_type": "stream",
     "text": [
      "/Users/kristenakey/opt/anaconda3/envs/maps/lib/python3.8/site-packages/xgboost/sklearn.py:888: UserWarning: The use of label encoder in XGBClassifier is deprecated and will be removed in a future release. To remove this warning, do the following: 1) Pass option use_label_encoder=False when constructing XGBClassifier object; and 2) Encode your labels (y) as integers starting with 0, i.e. 0, 1, 2, ..., [num_class - 1].\n",
      "  warnings.warn(label_encoder_deprecation_msg, UserWarning)\n"
     ]
    },
    {
     "name": "stdout",
     "output_type": "stream",
     "text": [
      "[11:36:20] WARNING: /Users/runner/miniforge3/conda-bld/xgboost_1607604592557/work/src/learner.cc:1061: Starting in XGBoost 1.3.0, the default evaluation metric used with the objective 'binary:logistic' was changed from 'error' to 'logloss'. Explicitly set eval_metric if you'd like to restore the old behavior.\n"
     ]
    },
    {
     "name": "stderr",
     "output_type": "stream",
     "text": [
      "/Users/kristenakey/opt/anaconda3/envs/maps/lib/python3.8/site-packages/xgboost/sklearn.py:888: UserWarning: The use of label encoder in XGBClassifier is deprecated and will be removed in a future release. To remove this warning, do the following: 1) Pass option use_label_encoder=False when constructing XGBClassifier object; and 2) Encode your labels (y) as integers starting with 0, i.e. 0, 1, 2, ..., [num_class - 1].\n",
      "  warnings.warn(label_encoder_deprecation_msg, UserWarning)\n"
     ]
    },
    {
     "name": "stdout",
     "output_type": "stream",
     "text": [
      "[11:36:21] WARNING: /Users/runner/miniforge3/conda-bld/xgboost_1607604592557/work/src/learner.cc:1061: Starting in XGBoost 1.3.0, the default evaluation metric used with the objective 'binary:logistic' was changed from 'error' to 'logloss'. Explicitly set eval_metric if you'd like to restore the old behavior.\n"
     ]
    },
    {
     "name": "stderr",
     "output_type": "stream",
     "text": [
      "/Users/kristenakey/opt/anaconda3/envs/maps/lib/python3.8/site-packages/xgboost/sklearn.py:888: UserWarning: The use of label encoder in XGBClassifier is deprecated and will be removed in a future release. To remove this warning, do the following: 1) Pass option use_label_encoder=False when constructing XGBClassifier object; and 2) Encode your labels (y) as integers starting with 0, i.e. 0, 1, 2, ..., [num_class - 1].\n",
      "  warnings.warn(label_encoder_deprecation_msg, UserWarning)\n"
     ]
    },
    {
     "name": "stdout",
     "output_type": "stream",
     "text": [
      "[11:36:21] WARNING: /Users/runner/miniforge3/conda-bld/xgboost_1607604592557/work/src/learner.cc:1061: Starting in XGBoost 1.3.0, the default evaluation metric used with the objective 'binary:logistic' was changed from 'error' to 'logloss'. Explicitly set eval_metric if you'd like to restore the old behavior.\n"
     ]
    },
    {
     "name": "stderr",
     "output_type": "stream",
     "text": [
      "/Users/kristenakey/opt/anaconda3/envs/maps/lib/python3.8/site-packages/xgboost/sklearn.py:888: UserWarning: The use of label encoder in XGBClassifier is deprecated and will be removed in a future release. To remove this warning, do the following: 1) Pass option use_label_encoder=False when constructing XGBClassifier object; and 2) Encode your labels (y) as integers starting with 0, i.e. 0, 1, 2, ..., [num_class - 1].\n",
      "  warnings.warn(label_encoder_deprecation_msg, UserWarning)\n"
     ]
    },
    {
     "name": "stdout",
     "output_type": "stream",
     "text": [
      "[11:36:22] WARNING: /Users/runner/miniforge3/conda-bld/xgboost_1607604592557/work/src/learner.cc:1061: Starting in XGBoost 1.3.0, the default evaluation metric used with the objective 'binary:logistic' was changed from 'error' to 'logloss'. Explicitly set eval_metric if you'd like to restore the old behavior.\n"
     ]
    },
    {
     "name": "stderr",
     "output_type": "stream",
     "text": [
      "/Users/kristenakey/opt/anaconda3/envs/maps/lib/python3.8/site-packages/xgboost/sklearn.py:888: UserWarning: The use of label encoder in XGBClassifier is deprecated and will be removed in a future release. To remove this warning, do the following: 1) Pass option use_label_encoder=False when constructing XGBClassifier object; and 2) Encode your labels (y) as integers starting with 0, i.e. 0, 1, 2, ..., [num_class - 1].\n",
      "  warnings.warn(label_encoder_deprecation_msg, UserWarning)\n"
     ]
    },
    {
     "name": "stdout",
     "output_type": "stream",
     "text": [
      "[11:36:22] WARNING: /Users/runner/miniforge3/conda-bld/xgboost_1607604592557/work/src/learner.cc:1061: Starting in XGBoost 1.3.0, the default evaluation metric used with the objective 'binary:logistic' was changed from 'error' to 'logloss'. Explicitly set eval_metric if you'd like to restore the old behavior.\n"
     ]
    },
    {
     "name": "stderr",
     "output_type": "stream",
     "text": [
      "/Users/kristenakey/opt/anaconda3/envs/maps/lib/python3.8/site-packages/xgboost/sklearn.py:888: UserWarning: The use of label encoder in XGBClassifier is deprecated and will be removed in a future release. To remove this warning, do the following: 1) Pass option use_label_encoder=False when constructing XGBClassifier object; and 2) Encode your labels (y) as integers starting with 0, i.e. 0, 1, 2, ..., [num_class - 1].\n",
      "  warnings.warn(label_encoder_deprecation_msg, UserWarning)\n"
     ]
    },
    {
     "name": "stdout",
     "output_type": "stream",
     "text": [
      "[11:36:23] WARNING: /Users/runner/miniforge3/conda-bld/xgboost_1607604592557/work/src/learner.cc:1061: Starting in XGBoost 1.3.0, the default evaluation metric used with the objective 'binary:logistic' was changed from 'error' to 'logloss'. Explicitly set eval_metric if you'd like to restore the old behavior.\n"
     ]
    },
    {
     "name": "stderr",
     "output_type": "stream",
     "text": [
      "/Users/kristenakey/opt/anaconda3/envs/maps/lib/python3.8/site-packages/xgboost/sklearn.py:888: UserWarning: The use of label encoder in XGBClassifier is deprecated and will be removed in a future release. To remove this warning, do the following: 1) Pass option use_label_encoder=False when constructing XGBClassifier object; and 2) Encode your labels (y) as integers starting with 0, i.e. 0, 1, 2, ..., [num_class - 1].\n",
      "  warnings.warn(label_encoder_deprecation_msg, UserWarning)\n"
     ]
    },
    {
     "name": "stdout",
     "output_type": "stream",
     "text": [
      "[11:36:24] WARNING: /Users/runner/miniforge3/conda-bld/xgboost_1607604592557/work/src/learner.cc:1061: Starting in XGBoost 1.3.0, the default evaluation metric used with the objective 'binary:logistic' was changed from 'error' to 'logloss'. Explicitly set eval_metric if you'd like to restore the old behavior.\n"
     ]
    },
    {
     "name": "stderr",
     "output_type": "stream",
     "text": [
      "/Users/kristenakey/opt/anaconda3/envs/maps/lib/python3.8/site-packages/xgboost/sklearn.py:888: UserWarning: The use of label encoder in XGBClassifier is deprecated and will be removed in a future release. To remove this warning, do the following: 1) Pass option use_label_encoder=False when constructing XGBClassifier object; and 2) Encode your labels (y) as integers starting with 0, i.e. 0, 1, 2, ..., [num_class - 1].\n",
      "  warnings.warn(label_encoder_deprecation_msg, UserWarning)\n"
     ]
    },
    {
     "name": "stdout",
     "output_type": "stream",
     "text": [
      "[11:36:24] WARNING: /Users/runner/miniforge3/conda-bld/xgboost_1607604592557/work/src/learner.cc:1061: Starting in XGBoost 1.3.0, the default evaluation metric used with the objective 'binary:logistic' was changed from 'error' to 'logloss'. Explicitly set eval_metric if you'd like to restore the old behavior.\n"
     ]
    },
    {
     "name": "stderr",
     "output_type": "stream",
     "text": [
      "/Users/kristenakey/opt/anaconda3/envs/maps/lib/python3.8/site-packages/xgboost/sklearn.py:888: UserWarning: The use of label encoder in XGBClassifier is deprecated and will be removed in a future release. To remove this warning, do the following: 1) Pass option use_label_encoder=False when constructing XGBClassifier object; and 2) Encode your labels (y) as integers starting with 0, i.e. 0, 1, 2, ..., [num_class - 1].\n",
      "  warnings.warn(label_encoder_deprecation_msg, UserWarning)\n"
     ]
    },
    {
     "name": "stdout",
     "output_type": "stream",
     "text": [
      "[11:36:25] WARNING: /Users/runner/miniforge3/conda-bld/xgboost_1607604592557/work/src/learner.cc:1061: Starting in XGBoost 1.3.0, the default evaluation metric used with the objective 'binary:logistic' was changed from 'error' to 'logloss'. Explicitly set eval_metric if you'd like to restore the old behavior.\n"
     ]
    },
    {
     "name": "stderr",
     "output_type": "stream",
     "text": [
      "/Users/kristenakey/opt/anaconda3/envs/maps/lib/python3.8/site-packages/xgboost/sklearn.py:888: UserWarning: The use of label encoder in XGBClassifier is deprecated and will be removed in a future release. To remove this warning, do the following: 1) Pass option use_label_encoder=False when constructing XGBClassifier object; and 2) Encode your labels (y) as integers starting with 0, i.e. 0, 1, 2, ..., [num_class - 1].\n",
      "  warnings.warn(label_encoder_deprecation_msg, UserWarning)\n"
     ]
    },
    {
     "name": "stdout",
     "output_type": "stream",
     "text": [
      "[11:36:26] WARNING: /Users/runner/miniforge3/conda-bld/xgboost_1607604592557/work/src/learner.cc:1061: Starting in XGBoost 1.3.0, the default evaluation metric used with the objective 'binary:logistic' was changed from 'error' to 'logloss'. Explicitly set eval_metric if you'd like to restore the old behavior.\n"
     ]
    },
    {
     "name": "stderr",
     "output_type": "stream",
     "text": [
      "/Users/kristenakey/opt/anaconda3/envs/maps/lib/python3.8/site-packages/xgboost/sklearn.py:888: UserWarning: The use of label encoder in XGBClassifier is deprecated and will be removed in a future release. To remove this warning, do the following: 1) Pass option use_label_encoder=False when constructing XGBClassifier object; and 2) Encode your labels (y) as integers starting with 0, i.e. 0, 1, 2, ..., [num_class - 1].\n",
      "  warnings.warn(label_encoder_deprecation_msg, UserWarning)\n"
     ]
    },
    {
     "name": "stdout",
     "output_type": "stream",
     "text": [
      "[11:36:26] WARNING: /Users/runner/miniforge3/conda-bld/xgboost_1607604592557/work/src/learner.cc:1061: Starting in XGBoost 1.3.0, the default evaluation metric used with the objective 'binary:logistic' was changed from 'error' to 'logloss'. Explicitly set eval_metric if you'd like to restore the old behavior.\n"
     ]
    },
    {
     "name": "stderr",
     "output_type": "stream",
     "text": [
      "/Users/kristenakey/opt/anaconda3/envs/maps/lib/python3.8/site-packages/xgboost/sklearn.py:888: UserWarning: The use of label encoder in XGBClassifier is deprecated and will be removed in a future release. To remove this warning, do the following: 1) Pass option use_label_encoder=False when constructing XGBClassifier object; and 2) Encode your labels (y) as integers starting with 0, i.e. 0, 1, 2, ..., [num_class - 1].\n",
      "  warnings.warn(label_encoder_deprecation_msg, UserWarning)\n"
     ]
    },
    {
     "name": "stdout",
     "output_type": "stream",
     "text": [
      "[11:36:27] WARNING: /Users/runner/miniforge3/conda-bld/xgboost_1607604592557/work/src/learner.cc:1061: Starting in XGBoost 1.3.0, the default evaluation metric used with the objective 'binary:logistic' was changed from 'error' to 'logloss'. Explicitly set eval_metric if you'd like to restore the old behavior.\n",
      "best parameters: {'eta': 1, 'max_depth': 3, 'n_estimators': 100}\n",
      "best mean cross-validation score: 0.735\n",
      "test-set score: 0.750\n"
     ]
    }
   ],
   "source": [
    "from xgboost import XGBClassifier\n",
    "param = {'max_depth':[1,2, 3], 'eta':[1,2], 'n_estimators':[100]}\n",
    "\n",
    "# cv = number of folds\n",
    "gridxgb = GridSearchCV(XGBClassifier(random_state=9), \n",
    "                    param_grid=param, cv=5, scoring=f1_scorer)\n",
    "#use meta model methods to fit score and predict model:\n",
    "start = timeit.default_timer()\n",
    "gridxgb.fit(X, label)\n",
    "stop = timeit.default_timer()\n",
    "\n",
    "y_predictions = gridxgb.predict(X_test)\n",
    "print(\"best parameters: {}\".format(gridxgb.best_params_))\n",
    "print(\"best mean cross-validation score: {:.3f}\".format(gridxgb.best_score_))\n",
    "print(\"test-set score: {:.3f}\".format(f1_score(np.array(test.fake), y_predictions)))"
   ]
  },
  {
   "cell_type": "code",
   "execution_count": 74,
   "metadata": {},
   "outputs": [
    {
     "name": "stdout",
     "output_type": "stream",
     "text": [
      "[12:55:53] WARNING: /Users/runner/miniforge3/conda-bld/xgboost_1607604592557/work/src/learner.cc:1061: Starting in XGBoost 1.3.0, the default evaluation metric used with the objective 'binary:logistic' was changed from 'error' to 'logloss'. Explicitly set eval_metric if you'd like to restore the old behavior.\n",
      "test-set score: 0.8052\n",
      "test-set score: 0.7917\n"
     ]
    }
   ],
   "source": [
    "xgboost = XGBClassifier(random_state=9, max_depth=2,eta=1,n_estimators=100)\n",
    "\n",
    "start = timeit.default_timer()\n",
    "xgboost.fit(X, label)\n",
    "stop = timeit.default_timer()\n",
    "\n",
    "# clf.score(X_test, np.array(test.fake))\n",
    "y_predictions = xgboost.predict(X_test)\n",
    "print(\"test-set score: {:.4f}\".format(f1_score(np.array(test.fake), y_predictions)))\n",
    "print(\"test-set score: {:.4f}\".format(accuracy_score(np.array(test.fake), y_predictions)))"
   ]
  },
  {
   "cell_type": "code",
   "execution_count": null,
   "metadata": {},
   "outputs": [],
   "source": []
  }
 ],
 "metadata": {
  "kernelspec": {
   "display_name": "Python 3",
   "language": "python",
   "name": "python3"
  },
  "language_info": {
   "codemirror_mode": {
    "name": "ipython",
    "version": 3
   },
   "file_extension": ".py",
   "mimetype": "text/x-python",
   "name": "python",
   "nbconvert_exporter": "python",
   "pygments_lexer": "ipython3",
   "version": "3.8.2"
  }
 },
 "nbformat": 4,
 "nbformat_minor": 4
}
